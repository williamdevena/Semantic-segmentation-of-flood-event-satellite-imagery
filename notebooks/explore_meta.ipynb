{
 "cells": [
  {
   "cell_type": "code",
   "execution_count": 4,
   "id": "76844781",
   "metadata": {},
   "outputs": [
    {
     "data": {
      "text/plain": [
       "{'source': 'glofimr',\n",
       " 'satellite': 'Landsat-8',\n",
       " 'satellite date': '2016-01-04T00:00:00Z',\n",
       " 'shape': [10086, 8742],\n",
       " 'pixels invalid S2': 3413143,\n",
       " 'pixels clouds S2': 23711,\n",
       " 'pixels water S2': 7084781,\n",
       " 'pixels land S2': 77650177,\n",
       " 'pixels flood water S2': 3414937,\n",
       " 'pixels hydro water S2': 0,\n",
       " 'pixels permanent water S2': 3669844,\n",
       " 'method clouds': 's2cloudless',\n",
       " 'bounds': [-86.43742377396336,\n",
       "  30.3493123793928,\n",
       "  -85.65211655258608,\n",
       "  31.255353174955747],\n",
       " 's2metadata': [{'date_string': '2016-01-11 16:37',\n",
       "   'system:time_start': 1452530233424,\n",
       "   'area_rel': 100}]}"
      ]
     },
     "execution_count": 4,
     "metadata": {},
     "output_type": "execute_result"
    }
   ],
   "source": [
    "import json\n",
    "\n",
    "with open('../WORLDFLOODS/train/meta/01042016_Choctawhatchee_River_near_Bellwood_AL.json') as f:\n",
    "  data = json.load(f)\n",
    "\n",
    "data"
   ]
  },
  {
   "cell_type": "code",
   "execution_count": 5,
   "id": "8152b64c",
   "metadata": {},
   "outputs": [
    {
     "data": {
      "text/plain": [
       "'Landsat-8'"
      ]
     },
     "execution_count": 5,
     "metadata": {},
     "output_type": "execute_result"
    }
   ],
   "source": [
    "data['satellite']"
   ]
  },
  {
   "cell_type": "code",
   "execution_count": 38,
   "id": "63e758f4",
   "metadata": {},
   "outputs": [],
   "source": [
    "import glob\n",
    "files=glob.glob(\"../WORLDFLOODS/test/meta/*\")"
   ]
  },
  {
   "cell_type": "code",
   "execution_count": 42,
   "id": "c8fb1231",
   "metadata": {},
   "outputs": [
    {
     "data": {
      "text/plain": [
       "{'bounds',\n",
       " 'method clouds',\n",
       " 'pixels clouds S2',\n",
       " 'pixels flood water S2',\n",
       " 'pixels hydro water S2',\n",
       " 'pixels invalid S2',\n",
       " 'pixels land S2',\n",
       " 'pixels permanent water S2',\n",
       " 'pixels water S2',\n",
       " 's2metadata',\n",
       " 'satellite',\n",
       " 'satellite date',\n",
       " 'shape',\n",
       " 'source'}"
      ]
     },
     "execution_count": 42,
     "metadata": {},
     "output_type": "execute_result"
    }
   ],
   "source": [
    "meta_keys=set(())\n",
    "for file in files:\n",
    "    with open(file) as f:\n",
    "        data = json.load(f)\n",
    "    for key in data.keys():\n",
    "        meta_keys.add(key)\n",
    "#ALL KEYS OF THE METADATA (TRAIN, VAL, TEST)\n",
    "meta_keys"
   ]
  },
  {
   "cell_type": "code",
   "execution_count": 40,
   "id": "b7ce266b",
   "metadata": {},
   "outputs": [
    {
     "data": {
      "text/plain": [
       "{'Sentinel-1', 'Sentinel-2'}"
      ]
     },
     "execution_count": 40,
     "metadata": {},
     "output_type": "execute_result"
    }
   ],
   "source": [
    "satellites=set(())\n",
    "for file in files:\n",
    "    with open(file) as f:\n",
    "        data = json.load(f)\n",
    "    satellites.add(data['satellite'])\n",
    "    \n",
    "# ALL SATELLITES THAT ARE IN THE METADATA\n",
    "satellites\n",
    "\n",
    "# TRAIN: {'COSMO-SkyMed',\n",
    "# 'GeoEye-1',\n",
    "# 'Landsat-8',\n",
    "# 'PlanetScope',\n",
    "# 'Pleiades-1A-1B',\n",
    "# 'RADARSAT-2',\n",
    "# 'SPOT-6-7',\n",
    "# 'Sentinel-1',\n",
    "# 'TERRASAR-X',\n",
    "# 'WorldView-1',\n",
    "# 'WorldView-2',\n",
    "# 'WorldView-3',\n",
    "# 'earth observing 1',\n",
    "# 'spot 6'}\n",
    "\n",
    "# VAL: {'COSMO-SkyMed', 'RADARSAT-2', 'SPOT-6-7', 'Sentinel-1'}\n",
    "\n",
    "# TEST: {'Sentinel-1', 'Sentinel-2'}"
   ]
  },
  {
   "cell_type": "code",
   "execution_count": 41,
   "id": "d67133e6",
   "metadata": {},
   "outputs": [
    {
     "data": {
      "text/plain": [
       "{'CopernicusEMS'}"
      ]
     },
     "execution_count": 41,
     "metadata": {},
     "output_type": "execute_result"
    }
   ],
   "source": [
    "sources=set(())\n",
    "for file in files:\n",
    "    with open(file) as f:\n",
    "        data = json.load(f)\n",
    "    sources.add(data['source'])\n",
    "    \n",
    "# ALL SOURCES OF THE METADATA\n",
    "sources\n",
    "\n",
    "# TRAIN:\n",
    "# GLOFIMR (Global Flood Inundation Map Repository)\n",
    "# CopernicusEMS (Copernicus Emergency Managament System)\n",
    "# Unosat (United Nationa Satellite System)\n",
    "\n",
    "# VAL:\n",
    "# CopernicusEMS (Copernicus Emergency Managament System)\n",
    "# Unosat (United Nationa Satellite System)\n",
    "\n",
    "# TEST:\n",
    "# CopernicusEMS (Copernicus Emergency Managament System)"
   ]
  },
  {
   "cell_type": "code",
   "execution_count": null,
   "id": "4abaf256",
   "metadata": {},
   "outputs": [],
   "source": []
  }
 ],
 "metadata": {
  "kernelspec": {
   "display_name": "Python 3 (ipykernel)",
   "language": "python",
   "name": "python3"
  },
  "language_info": {
   "codemirror_mode": {
    "name": "ipython",
    "version": 3
   },
   "file_extension": ".py",
   "mimetype": "text/x-python",
   "name": "python",
   "nbconvert_exporter": "python",
   "pygments_lexer": "ipython3",
   "version": "3.7.11"
  }
 },
 "nbformat": 4,
 "nbformat_minor": 5
}
