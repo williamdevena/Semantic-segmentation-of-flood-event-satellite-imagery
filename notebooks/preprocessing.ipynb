{
 "cells": [
  {
   "cell_type": "code",
   "execution_count": 11,
   "id": "13ef8ed7",
   "metadata": {},
   "outputs": [],
   "source": [
    "import os\n",
    "import rasterio\n",
    "import numpy as np\n",
    "from PIL import Image\n",
    "import glob"
   ]
  },
  {
   "cell_type": "code",
   "execution_count": 24,
   "id": "86da3034",
   "metadata": {},
   "outputs": [],
   "source": [
    "def generate_rgb(tiff_path, save_path):\n",
    "    #generate rgb from S2 image if it does not exists\n",
    "    \n",
    "    with rasterio.open(tiff_path) as s2rst:\n",
    "        s2img = s2rst.read((4,3,2))\n",
    "        s2img_rgb = (np.clip(s2img / 2500, 0, 1).transpose((1, 2, 0)) * 255).astype(np.uint8)\n",
    "        Image.fromarray(s2img_rgb).save(save_path)\n"
   ]
  },
  {
   "cell_type": "code",
   "execution_count": 25,
   "id": "64ea7353",
   "metadata": {},
   "outputs": [],
   "source": [
    "tiff_path=\"../WORLDFLOODS/test/s2/EMSR333_01RATTALORO_DEL_MONIT01_v1_observed_event_a.tif\"\n",
    "save_path=\"../../../rgb_from_s2_4.jpeg\"\n",
    "generate_rgb(tiff_path, save_path)"
   ]
  },
  {
   "cell_type": "code",
   "execution_count": 13,
   "id": "80d6c73d",
   "metadata": {},
   "outputs": [],
   "source": [
    "files=glob.glob(\"../WORLDFLOODS/test/s2/*\")\n",
    "\n",
    "for x, tiff in enumerate(files):\n",
    "    save_path=\"../../../\"+str(x)+\".jpeg\"\n",
    "    generate_rgb(tiff, save_path)"
   ]
  },
  {
   "cell_type": "code",
   "execution_count": null,
   "id": "f23014ce",
   "metadata": {},
   "outputs": [],
   "source": []
  }
 ],
 "metadata": {
  "kernelspec": {
   "display_name": "Python 3 (ipykernel)",
   "language": "python",
   "name": "python3"
  },
  "language_info": {
   "codemirror_mode": {
    "name": "ipython",
    "version": 3
   },
   "file_extension": ".py",
   "mimetype": "text/x-python",
   "name": "python",
   "nbconvert_exporter": "python",
   "pygments_lexer": "ipython3",
   "version": "3.7.11"
  }
 },
 "nbformat": 4,
 "nbformat_minor": 5
}
