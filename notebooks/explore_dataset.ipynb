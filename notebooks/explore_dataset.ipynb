{
 "cells": [
  {
   "cell_type": "code",
   "execution_count": 1,
   "id": "eb25a9ba",
   "metadata": {},
   "outputs": [],
   "source": [
    "import os"
   ]
  },
  {
   "cell_type": "code",
   "execution_count": 18,
   "id": "f6e2f885",
   "metadata": {},
   "outputs": [
    {
     "name": "stdout",
     "output_type": "stream",
     "text": [
      "S2: 11\n",
      "gt: 11\n",
      "PERMANENTWATERJRC: 10\n",
      "meta: 11\n",
      "cloudprob_edited: 5\n",
      "floodmaps: 55\n"
     ]
    }
   ],
   "source": [
    "# to see the length of directories in dataset\n",
    "\n",
    "master=\"test/\"\n",
    "path='../WORLDFLOODS/'+master\n",
    "for directory in os.listdir(path):\n",
    "    #print(directory)\n",
    "    if os.path.isdir(path+directory):\n",
    "        print(directory+\": \"+str(len(os.listdir(path+directory))))\n",
    "        #print(len(os.listdir(path+directory)))"
   ]
  },
  {
   "cell_type": "code",
   "execution_count": 19,
   "id": "efed62a0",
   "metadata": {},
   "outputs": [
    {
     "name": "stdout",
     "output_type": "stream",
     "text": [
      "ST1_20161014_WaterExtent_BinhDinh_Lake.tif\n",
      "EMSR280_03FALUN_DEL_MONIT06_v2_observed_event_a.json\n",
      "----------------\n",
      "EMSR271_02FARKADONA_DEL_v1_observed_event_a.tif\n",
      "EMSR287_05MAGWITZ_DEL_v1_observed_event_a.json\n",
      "----------------\n",
      "EMSR287_05MAGWITZ_DEL_v1_observed_event_a.tif\n",
      "EMSR271_02FARKADONA_DEL_v1_observed_event_a.json\n",
      "----------------\n",
      "EMSR279_05ZARAGOZA_DEL_MONIT02_v1_observed_event_a.tif\n",
      "ST1_20161014_WaterExtent_BinhDinh_Lake.json\n",
      "----------------\n",
      "RS2_20161008_Water_Extent_Corail_Pestel.tif\n",
      "EMSR279_05ZARAGOZA_DEL_MONIT02_v1_observed_event_a.json\n",
      "----------------\n",
      "EMSR280_03FALUN_DEL_MONIT06_v2_observed_event_a.tif\n",
      "RS2_20161008_Water_Extent_Corail_Pestel.json\n",
      "----------------\n"
     ]
    }
   ],
   "source": [
    "# to see if the files in s2 and meta are of the same event\n",
    "\n",
    "master=\"val/\"\n",
    "path='../WORLDFLOODS/'+master\n",
    "        \n",
    "for x in range(len(os.listdir(path+\"s2\"))):\n",
    "    print(os.listdir(path+\"s2\")[x])\n",
    "    print(os.listdir(path+\"meta\")[x])\n",
    "    print(\"----------------\")\n",
    "        \n",
    "# YES!!\n",
    "# This means that the data in s2 is not only of \n"
   ]
  },
  {
   "cell_type": "code",
   "execution_count": null,
   "id": "33f7d9d2",
   "metadata": {},
   "outputs": [],
   "source": []
  }
 ],
 "metadata": {
  "kernelspec": {
   "display_name": "Python 3 (ipykernel)",
   "language": "python",
   "name": "python3"
  },
  "language_info": {
   "codemirror_mode": {
    "name": "ipython",
    "version": 3
   },
   "file_extension": ".py",
   "mimetype": "text/x-python",
   "name": "python",
   "nbconvert_exporter": "python",
   "pygments_lexer": "ipython3",
   "version": "3.7.11"
  }
 },
 "nbformat": 4,
 "nbformat_minor": 5
}
